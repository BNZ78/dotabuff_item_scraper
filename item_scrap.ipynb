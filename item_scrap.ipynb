{
 "cells": [
  {
   "cell_type": "code",
   "execution_count": 206,
   "metadata": {},
   "outputs": [],
   "source": [
    "import requests\n",
    "from bs4 import BeautifulSoup as bs\n",
    "import pandas as pd\n",
    "from datetime import datetime"
   ]
  },
  {
   "cell_type": "code",
   "execution_count": 193,
   "metadata": {},
   "outputs": [],
   "source": [
    "time=''#we can add ?date=week,?date=month,?date=week3month etc to select the timeframe we want to choose\n",
    "baseurl='https://www.dotabuff.com/items' #this is the basic url it retrieves the item data of the current month\n",
    "page=requests.get(url,headers={'user-agent':'item-scraper v0.1'})#we request the contents of the page\n",
    "df=pd.DataFrame(columns=['item','times_used','use_rate','win_rate'])#we create a dataframe with the columns of the webtable"
   ]
  },
  {
   "cell_type": "code",
   "execution_count": 194,
   "metadata": {},
   "outputs": [],
   "source": [
    "soup=bs(page.content,'html.parser')#we pass it to BeautifulSoup"
   ]
  },
  {
   "cell_type": "code",
   "execution_count": 198,
   "metadata": {},
   "outputs": [],
   "source": [
    "#We start diggin into the html until we find the contents of the table\n",
    "html=list(soup.children)[1]\n",
    "body=list(html.children)[1]\n",
    "div=list(body.children)[0]\n",
    "div2=list(div.children)[7]\n",
    "div3=list(div2.children)[2]\n",
    "section=list(div3.children)[0]\n",
    "article=list(section.children)[1]\n",
    "table=list(article.children)[0]\n",
    "tbody=list(table.children)[1]\n",
    "items=list(tbody.children)\n",
    "#once we are there we extract the data for each row on the original table\n",
    "for i in range(len(items)):\n",
    "    list_item=list(items[i].children)\n",
    "    df=df.append(pd.Series([list_item[1].get_text(),list_item[2].get_text(),list_item[3].get_text(),list_item[4].get_text()],index=df.columns),ignore_index=True)"
   ]
  },
  {
   "cell_type": "code",
   "execution_count": 213,
   "metadata": {},
   "outputs": [],
   "source": [
    "df['date']=datetime.today().strftime('%Y-%m-%d')"
   ]
  },
  {
   "cell_type": "code",
   "execution_count": 216,
   "metadata": {},
   "outputs": [],
   "source": [
    "csv_name='item_data_'+str(datetime.today().strftime('%Y-%m-%d'))+'.csv'\n",
    "df.to_csv(csv_name,sep=';')"
   ]
  },
  {
   "cell_type": "code",
   "execution_count": null,
   "metadata": {},
   "outputs": [],
   "source": []
  }
 ],
 "metadata": {
  "kernelspec": {
   "display_name": "Python 3",
   "language": "python",
   "name": "python3"
  },
  "language_info": {
   "codemirror_mode": {
    "name": "ipython",
    "version": 3
   },
   "file_extension": ".py",
   "mimetype": "text/x-python",
   "name": "python",
   "nbconvert_exporter": "python",
   "pygments_lexer": "ipython3",
   "version": "3.7.0"
  }
 },
 "nbformat": 4,
 "nbformat_minor": 2
}
